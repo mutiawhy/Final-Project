{
 "cells": [
  {
   "cell_type": "code",
   "execution_count": 2,
   "metadata": {},
   "outputs": [],
   "source": [
    "import pandas as pd\n",
    "import numpy as np\n",
    "from sklearn.model_selection import train_test_split\n",
    "from sklearn.linear_model import LinearRegression\n",
    "from sklearn.ensemble import RandomForestRegressor\n",
    "from sklearn.svm import SVR\n",
    "from sklearn.metrics import mean_absolute_error,mean_squared_error,r2_score\n",
    "from sklearn.model_selection import KFold\n",
    "from sklearn.model_selection import RandomizedSearchCV\n",
    "from sklearn.preprocessing import StandardScaler\n",
    "from xgboost import XGBRegressor\n",
    "import lightgbm \n",
    "from lightgbm import LGBMRegressor"
   ]
  },
  {
   "cell_type": "markdown",
   "metadata": {},
   "source": [
    "### 1.Load Data "
   ]
  },
  {
   "cell_type": "code",
   "execution_count": 8,
   "metadata": {},
   "outputs": [],
   "source": [
    "data_clean = pd.read_csv('data_clean.csv') \n",
    "\n",
    "n_sample=80000\n",
    "data_clean= data_clean.sample(n_sample, random_state=101).reset_index()\n",
    "data_clean.drop(['Unnamed: 0','index','weekday'],axis=1, inplace=True)"
   ]
  },
  {
   "cell_type": "markdown",
   "metadata": {},
   "source": [
    "### 2. StandarScaler"
   ]
  },
  {
   "cell_type": "code",
   "execution_count": 9,
   "metadata": {},
   "outputs": [],
   "source": [
    "sc= StandardScaler()\n",
    "data_scaled = sc.fit_transform(data_clean[['distance','temp', 'clouds', \n",
    "                                   'pressure', 'rain', 'humidity', 'wind']])\n",
    "data_scaled = pd.DataFrame(data_scaled, columns=['distance', 'temp', 'clouds',\n",
    "                                                 'pressure', 'rain', 'humidity', 'wind'])\n",
    "data_notscaled= data_clean.drop(columns= ['distance','temp', 'clouds', 'pressure', \n",
    "                                  'rain', 'humidity', 'wind']).reset_index(drop=True)  \n",
    "df= pd.concat([data_scaled,data_notscaled],axis=1)\n",
    "df= pd.get_dummies(data=df, columns=['hour'],drop_first=True)"
   ]
  },
  {
   "cell_type": "markdown",
   "metadata": {},
   "source": [
    "### 3. Modelling Preparation  "
   ]
  },
  {
   "cell_type": "code",
   "execution_count": 10,
   "metadata": {},
   "outputs": [],
   "source": [
    "#set target and features\n",
    "y= df['price']\n",
    "x= df.drop(['price'], axis=1)\n",
    "\n",
    "#split data to train and test  \n",
    "X_train, X_test, y_train, y_test = train_test_split(x, y ,test_size = 0.2,random_state=101)"
   ]
  },
  {
   "cell_type": "code",
   "execution_count": 11,
   "metadata": {},
   "outputs": [],
   "source": [
    "#function for evaluating model  \n",
    "def evalmetrics(model, x, y):\n",
    "    prediction = model.predict(x)\n",
    "    MAE=(round(mean_absolute_error(y,prediction),2))\n",
    "    RMSE=(round(np.sqrt(mean_squared_error(y,prediction)),2))\n",
    "    R2=(round((r2_score(y,prediction)),3))\n",
    "    evalscore = pd.DataFrame([{'MAE': MAE,'RMSE':RMSE,'R2' : R2}],index=[':'],)\n",
    "    return evalscore\n"
   ]
  },
  {
   "cell_type": "markdown",
   "metadata": {},
   "source": [
    "## 1. Linear Regression "
   ]
  },
  {
   "cell_type": "code",
   "execution_count": 9,
   "metadata": {
    "scrolled": true
   },
   "outputs": [
    {
     "data": {
      "text/plain": [
       "LinearRegression(copy_X=True, fit_intercept=True, n_jobs=None, normalize=False)"
      ]
     },
     "execution_count": 9,
     "metadata": {},
     "output_type": "execute_result"
    }
   ],
   "source": [
    "LR = LinearRegression()\n",
    "LR.fit(X_train, y_train)\n"
   ]
  },
  {
   "cell_type": "code",
   "execution_count": 10,
   "metadata": {
    "scrolled": false
   },
   "outputs": [
    {
     "data": {
      "text/html": [
       "<div>\n",
       "<style scoped>\n",
       "    .dataframe tbody tr th:only-of-type {\n",
       "        vertical-align: middle;\n",
       "    }\n",
       "\n",
       "    .dataframe tbody tr th {\n",
       "        vertical-align: top;\n",
       "    }\n",
       "\n",
       "    .dataframe thead th {\n",
       "        text-align: right;\n",
       "    }\n",
       "</style>\n",
       "<table border=\"1\" class=\"dataframe\">\n",
       "  <thead>\n",
       "    <tr style=\"text-align: right;\">\n",
       "      <th></th>\n",
       "      <th></th>\n",
       "      <th>MAE</th>\n",
       "      <th>RMSE</th>\n",
       "      <th>R2</th>\n",
       "    </tr>\n",
       "  </thead>\n",
       "  <tbody>\n",
       "    <tr>\n",
       "      <td>Train</td>\n",
       "      <td>:</td>\n",
       "      <td>1.94</td>\n",
       "      <td>3.03</td>\n",
       "      <td>0.895</td>\n",
       "    </tr>\n",
       "    <tr>\n",
       "      <td>Test</td>\n",
       "      <td>:</td>\n",
       "      <td>1.97</td>\n",
       "      <td>3.11</td>\n",
       "      <td>0.891</td>\n",
       "    </tr>\n",
       "  </tbody>\n",
       "</table>\n",
       "</div>"
      ],
      "text/plain": [
       "          MAE  RMSE     R2\n",
       "Train :  1.94  3.03  0.895\n",
       "Test  :  1.97  3.11  0.891"
      ]
     },
     "execution_count": 10,
     "metadata": {},
     "output_type": "execute_result"
    }
   ],
   "source": [
    "train_error= evalmetrics (LR, X_train, y_train)\n",
    "test_error= evalmetrics (LR, X_test, y_test)\n",
    "pd.concat([train_error,test_error],keys=['Train','Test'])\n",
    "\n"
   ]
  },
  {
   "cell_type": "markdown",
   "metadata": {},
   "source": [
    "### 2. Support Vector Regression"
   ]
  },
  {
   "cell_type": "code",
   "execution_count": 15,
   "metadata": {},
   "outputs": [
    {
     "data": {
      "text/plain": [
       "SVR(C=1.0, cache_size=200, coef0=0.0, degree=3, epsilon=0.1, gamma='scale',\n",
       "    kernel='rbf', max_iter=-1, shrinking=True, tol=0.001, verbose=False)"
      ]
     },
     "execution_count": 15,
     "metadata": {},
     "output_type": "execute_result"
    }
   ],
   "source": [
    "SVR_model = SVR()\n",
    "SVR_model.fit(X_train, y_train)\n"
   ]
  },
  {
   "cell_type": "code",
   "execution_count": 16,
   "metadata": {
    "scrolled": true
   },
   "outputs": [
    {
     "data": {
      "text/html": [
       "<div>\n",
       "<style scoped>\n",
       "    .dataframe tbody tr th:only-of-type {\n",
       "        vertical-align: middle;\n",
       "    }\n",
       "\n",
       "    .dataframe tbody tr th {\n",
       "        vertical-align: top;\n",
       "    }\n",
       "\n",
       "    .dataframe thead th {\n",
       "        text-align: right;\n",
       "    }\n",
       "</style>\n",
       "<table border=\"1\" class=\"dataframe\">\n",
       "  <thead>\n",
       "    <tr style=\"text-align: right;\">\n",
       "      <th></th>\n",
       "      <th></th>\n",
       "      <th>MAE</th>\n",
       "      <th>RMSE</th>\n",
       "      <th>R2</th>\n",
       "    </tr>\n",
       "  </thead>\n",
       "  <tbody>\n",
       "    <tr>\n",
       "      <td>Train</td>\n",
       "      <td>:</td>\n",
       "      <td>1.48</td>\n",
       "      <td>2.85</td>\n",
       "      <td>0.907</td>\n",
       "    </tr>\n",
       "    <tr>\n",
       "      <td>Test</td>\n",
       "      <td>:</td>\n",
       "      <td>1.60</td>\n",
       "      <td>2.97</td>\n",
       "      <td>0.900</td>\n",
       "    </tr>\n",
       "  </tbody>\n",
       "</table>\n",
       "</div>"
      ],
      "text/plain": [
       "          MAE  RMSE     R2\n",
       "Train :  1.48  2.85  0.907\n",
       "Test  :  1.60  2.97  0.900"
      ]
     },
     "execution_count": 16,
     "metadata": {},
     "output_type": "execute_result"
    }
   ],
   "source": [
    "train_error1= evalmetrics (SVR_model, X_train, y_train)\n",
    "test_error1= evalmetrics (SVR_model, X_test, y_test)\n",
    "pd.concat([train_error1,test_error1],keys=['Train','Test'])\n"
   ]
  },
  {
   "cell_type": "markdown",
   "metadata": {},
   "source": [
    "#### The score better than the linear regression, SVR has managed to lower the mean absolute error as well \n"
   ]
  },
  {
   "cell_type": "markdown",
   "metadata": {},
   "source": [
    "### 3. Random Forest Regressor"
   ]
  },
  {
   "cell_type": "code",
   "execution_count": 11,
   "metadata": {},
   "outputs": [
    {
     "data": {
      "text/plain": [
       "RandomForestRegressor(bootstrap=True, ccp_alpha=0.0, criterion='mse',\n",
       "                      max_depth=None, max_features='auto', max_leaf_nodes=None,\n",
       "                      max_samples=None, min_impurity_decrease=0.0,\n",
       "                      min_impurity_split=None, min_samples_leaf=1,\n",
       "                      min_samples_split=2, min_weight_fraction_leaf=0.0,\n",
       "                      n_estimators=100, n_jobs=None, oob_score=False,\n",
       "                      random_state=None, verbose=0, warm_start=False)"
      ]
     },
     "execution_count": 11,
     "metadata": {},
     "output_type": "execute_result"
    }
   ],
   "source": [
    "RFR = RandomForestRegressor()\n",
    "RFR.fit(X_train, y_train)\n"
   ]
  },
  {
   "cell_type": "code",
   "execution_count": 12,
   "metadata": {
    "scrolled": true
   },
   "outputs": [
    {
     "data": {
      "text/html": [
       "<div>\n",
       "<style scoped>\n",
       "    .dataframe tbody tr th:only-of-type {\n",
       "        vertical-align: middle;\n",
       "    }\n",
       "\n",
       "    .dataframe tbody tr th {\n",
       "        vertical-align: top;\n",
       "    }\n",
       "\n",
       "    .dataframe thead th {\n",
       "        text-align: right;\n",
       "    }\n",
       "</style>\n",
       "<table border=\"1\" class=\"dataframe\">\n",
       "  <thead>\n",
       "    <tr style=\"text-align: right;\">\n",
       "      <th></th>\n",
       "      <th></th>\n",
       "      <th>MAE</th>\n",
       "      <th>RMSE</th>\n",
       "      <th>R2</th>\n",
       "    </tr>\n",
       "  </thead>\n",
       "  <tbody>\n",
       "    <tr>\n",
       "      <td>Train</td>\n",
       "      <td>:</td>\n",
       "      <td>0.57</td>\n",
       "      <td>1.03</td>\n",
       "      <td>0.988</td>\n",
       "    </tr>\n",
       "    <tr>\n",
       "      <td>Test</td>\n",
       "      <td>:</td>\n",
       "      <td>1.55</td>\n",
       "      <td>2.81</td>\n",
       "      <td>0.911</td>\n",
       "    </tr>\n",
       "  </tbody>\n",
       "</table>\n",
       "</div>"
      ],
      "text/plain": [
       "          MAE  RMSE     R2\n",
       "Train :  0.57  1.03  0.988\n",
       "Test  :  1.55  2.81  0.911"
      ]
     },
     "execution_count": 12,
     "metadata": {},
     "output_type": "execute_result"
    }
   ],
   "source": [
    "train_error2= evalmetrics (RFR, X_train, y_train)\n",
    "test_error2= evalmetrics (RFR, X_test, y_test)\n",
    "pd.concat([train_error2,test_error2],keys=['Train','Test'])"
   ]
  },
  {
   "cell_type": "code",
   "execution_count": null,
   "metadata": {},
   "outputs": [],
   "source": []
  },
  {
   "cell_type": "markdown",
   "metadata": {},
   "source": [
    "### 4. XGB Regressor"
   ]
  },
  {
   "cell_type": "code",
   "execution_count": 13,
   "metadata": {},
   "outputs": [
    {
     "data": {
      "text/plain": [
       "XGBRegressor(alpha=0.5, base_score=0.5, booster=None, colsample_bylevel=1,\n",
       "             colsample_bynode=1, colsample_bytree=0.4, gamma=0.5, gpu_id=-1,\n",
       "             importance_type='gain', interaction_constraints=None,\n",
       "             learning_rate=0.09, max_delta_step=0, max_depth=4,\n",
       "             min_child_weight=1, missing=nan, monotone_constraints=None,\n",
       "             n_estimators=200, n_jobs=0, num_parallel_tree=1,\n",
       "             objective='reg:squarederror', random_state=0, reg_alpha=0.5,\n",
       "             reg_lambda=0.5, scale_pos_weight=1, subsample=1, tree_method=None,\n",
       "             validate_parameters=False, verbosity=None)"
      ]
     },
     "execution_count": 13,
     "metadata": {},
     "output_type": "execute_result"
    }
   ],
   "source": [
    "XGB_params1 = {'objective': 'reg:squarederror','colsample_bytree' : 0.4, 'learning_rate' : 0.09,\n",
    "                'max_depth' : 4, 'alpha' : 0.5, 'n_estimators' : 200, 'gamma': 0.5, 'reg_lambda':0.5 }\n",
    "\n",
    "               \n",
    "XGB = XGBRegressor(**XGB_params1)\n",
    "\n",
    "XGB.fit(X_train, y_train)\n"
   ]
  },
  {
   "cell_type": "code",
   "execution_count": 14,
   "metadata": {},
   "outputs": [
    {
     "data": {
      "text/html": [
       "<div>\n",
       "<style scoped>\n",
       "    .dataframe tbody tr th:only-of-type {\n",
       "        vertical-align: middle;\n",
       "    }\n",
       "\n",
       "    .dataframe tbody tr th {\n",
       "        vertical-align: top;\n",
       "    }\n",
       "\n",
       "    .dataframe thead th {\n",
       "        text-align: right;\n",
       "    }\n",
       "</style>\n",
       "<table border=\"1\" class=\"dataframe\">\n",
       "  <thead>\n",
       "    <tr style=\"text-align: right;\">\n",
       "      <th></th>\n",
       "      <th></th>\n",
       "      <th>MAE</th>\n",
       "      <th>RMSE</th>\n",
       "      <th>R2</th>\n",
       "    </tr>\n",
       "  </thead>\n",
       "  <tbody>\n",
       "    <tr>\n",
       "      <td>Train</td>\n",
       "      <td>:</td>\n",
       "      <td>1.52</td>\n",
       "      <td>2.62</td>\n",
       "      <td>0.921</td>\n",
       "    </tr>\n",
       "    <tr>\n",
       "      <td>Test</td>\n",
       "      <td>:</td>\n",
       "      <td>1.57</td>\n",
       "      <td>2.73</td>\n",
       "      <td>0.916</td>\n",
       "    </tr>\n",
       "  </tbody>\n",
       "</table>\n",
       "</div>"
      ],
      "text/plain": [
       "          MAE  RMSE     R2\n",
       "Train :  1.52  2.62  0.921\n",
       "Test  :  1.57  2.73  0.916"
      ]
     },
     "execution_count": 14,
     "metadata": {},
     "output_type": "execute_result"
    }
   ],
   "source": [
    "train_error3= evalmetrics (XGB, X_train, y_train)\n",
    "test_error3= evalmetrics (XGB, X_test, y_test)\n",
    "pd.concat([train_error3,test_error3],keys=['Train','Test'])"
   ]
  },
  {
   "cell_type": "markdown",
   "metadata": {},
   "source": [
    "### 5. LightGBM Regressor"
   ]
  },
  {
   "cell_type": "code",
   "execution_count": 18,
   "metadata": {},
   "outputs": [
    {
     "data": {
      "text/plain": [
       "LGBMRegressor(boosting_type='gbdt', class_weight=None, colsample_bytree=1.0,\n",
       "              importance_type='split', learning_rate=0.005, max_bin=50,\n",
       "              max_depth=4, metric=['l2', 'mae'], min_child_samples=20,\n",
       "              min_child_weight=0.001, min_split_gain=0.0, n_estimators=500,\n",
       "              n_jobs=-1, num_leaves=40, objective='regression',\n",
       "              random_state=None, reg_alpha=0.8, reg_lambda=0.5, silent=True,\n",
       "              subsample=1.0, subsample_for_bin=200000, subsample_freq=0)"
      ]
     },
     "execution_count": 18,
     "metadata": {},
     "output_type": "execute_result"
    }
   ],
   "source": [
    "LGBM_params = {'objective': 'regression',\n",
    "                'metric': ['l2', 'mae'],'learning_rate': 0.005,\"max_depth\": 4,\n",
    "               \"num_leaves\": 40,\"max_bin\": 50,\"n_estimators\": 500, \"reg_alpha\" :0.8, \"reg_lambda\": 0.5}\n",
    "LGBM = LGBMRegressor(**LGBM_params)\n",
    "LGBM.fit(X_train, y_train)\n"
   ]
  },
  {
   "cell_type": "code",
   "execution_count": 18,
   "metadata": {
    "scrolled": true
   },
   "outputs": [
    {
     "data": {
      "text/html": [
       "<div>\n",
       "<style scoped>\n",
       "    .dataframe tbody tr th:only-of-type {\n",
       "        vertical-align: middle;\n",
       "    }\n",
       "\n",
       "    .dataframe tbody tr th {\n",
       "        vertical-align: top;\n",
       "    }\n",
       "\n",
       "    .dataframe thead th {\n",
       "        text-align: right;\n",
       "    }\n",
       "</style>\n",
       "<table border=\"1\" class=\"dataframe\">\n",
       "  <thead>\n",
       "    <tr style=\"text-align: right;\">\n",
       "      <th></th>\n",
       "      <th></th>\n",
       "      <th>MAE</th>\n",
       "      <th>RMSE</th>\n",
       "      <th>R2</th>\n",
       "    </tr>\n",
       "  </thead>\n",
       "  <tbody>\n",
       "    <tr>\n",
       "      <td>Train</td>\n",
       "      <td>:</td>\n",
       "      <td>2.70</td>\n",
       "      <td>3.79</td>\n",
       "      <td>0.835</td>\n",
       "    </tr>\n",
       "    <tr>\n",
       "      <td>Test</td>\n",
       "      <td>:</td>\n",
       "      <td>2.76</td>\n",
       "      <td>3.90</td>\n",
       "      <td>0.829</td>\n",
       "    </tr>\n",
       "  </tbody>\n",
       "</table>\n",
       "</div>"
      ],
      "text/plain": [
       "          MAE  RMSE     R2\n",
       "Train :  2.70  3.79  0.835\n",
       "Test  :  2.76  3.90  0.829"
      ]
     },
     "execution_count": 18,
     "metadata": {},
     "output_type": "execute_result"
    }
   ],
   "source": [
    "train_error4= evalmetrics (LGBM, X_train, y_train)\n",
    "test_error4= evalmetrics (LGBM, X_test, y_test)\n",
    "pd.concat([train_error4,test_error4],keys=['Train','Test'])\n",
    "\n"
   ]
  },
  {
   "cell_type": "markdown",
   "metadata": {},
   "source": [
    "By comparing all the model by RMSE, it can be concluded that, even though all the model has MAE between 14% - 20%, Random Forest and XGBoost Regressor have the lowest RMSE for test data. Let's validate the findings with Kfold."
   ]
  },
  {
   "cell_type": "markdown",
   "metadata": {},
   "source": [
    "### Kfold Validation  "
   ]
  },
  {
   "cell_type": "code",
   "execution_count": 23,
   "metadata": {},
   "outputs": [],
   "source": [
    "def regression_model(n_cv):\n",
    "    LR= LinearRegression()\n",
    "    RFR= RandomForestRegressor()\n",
    "    LGBM = LGBMRegressor(**LGBM_params)\n",
    "    XGB = XGBRegressor(**XGB_params1)\n",
    "    model_name = ['LR', 'RFR', 'LGBM', 'XGB']\n",
    "    models = [LR, RFR, LGBM, XGB]\n",
    "    score = []\n",
    "    for item in models:\n",
    "        rmse = []\n",
    "        mae = []\n",
    "        R2 = []\n",
    "        kf = KFold(n_splits=n_cv,shuffle=True)\n",
    "        for train_index , test_index in kf.split(x,y):\n",
    "            X_train,X_test,y_train,y_test = x.iloc[train_index],x.iloc[test_index],y.iloc[train_index],y.iloc[test_index]\n",
    "            model = item\n",
    "            model.fit(X_train,y_train)\n",
    "            prediction = model.predict(X_test)\n",
    "            mae.append(round(mean_absolute_error(y_test,prediction),2))\n",
    "            rmse.append(round(np.sqrt(mean_squared_error(y_test,prediction)),2))\n",
    "            R2.append(round(r2_score(y_test,prediction),2))\n",
    "        temp = [\n",
    "            sum(mae)/n_cv,\n",
    "            sum(rmse)/n_cv,\n",
    "            sum(R2)/n_cv\n",
    "        ]\n",
    "        score.append(temp)\n",
    "    return pd.DataFrame(score,columns=['MAE','RMSE','R2'],index=model_name)"
   ]
  },
  {
   "cell_type": "code",
   "execution_count": 24,
   "metadata": {
    "scrolled": true
   },
   "outputs": [
    {
     "data": {
      "text/html": [
       "<div>\n",
       "<style scoped>\n",
       "    .dataframe tbody tr th:only-of-type {\n",
       "        vertical-align: middle;\n",
       "    }\n",
       "\n",
       "    .dataframe tbody tr th {\n",
       "        vertical-align: top;\n",
       "    }\n",
       "\n",
       "    .dataframe thead th {\n",
       "        text-align: right;\n",
       "    }\n",
       "</style>\n",
       "<table border=\"1\" class=\"dataframe\">\n",
       "  <thead>\n",
       "    <tr style=\"text-align: right;\">\n",
       "      <th></th>\n",
       "      <th>MAE</th>\n",
       "      <th>RMSE</th>\n",
       "      <th>R2</th>\n",
       "    </tr>\n",
       "  </thead>\n",
       "  <tbody>\n",
       "    <tr>\n",
       "      <td>LR</td>\n",
       "      <td>1.948</td>\n",
       "      <td>3.052</td>\n",
       "      <td>0.892</td>\n",
       "    </tr>\n",
       "    <tr>\n",
       "      <td>RFR</td>\n",
       "      <td>1.528</td>\n",
       "      <td>2.738</td>\n",
       "      <td>0.912</td>\n",
       "    </tr>\n",
       "    <tr>\n",
       "      <td>LGBM</td>\n",
       "      <td>2.712</td>\n",
       "      <td>3.810</td>\n",
       "      <td>0.836</td>\n",
       "    </tr>\n",
       "    <tr>\n",
       "      <td>XGB</td>\n",
       "      <td>1.548</td>\n",
       "      <td>2.672</td>\n",
       "      <td>0.920</td>\n",
       "    </tr>\n",
       "  </tbody>\n",
       "</table>\n",
       "</div>"
      ],
      "text/plain": [
       "        MAE   RMSE     R2\n",
       "LR    1.948  3.052  0.892\n",
       "RFR   1.528  2.738  0.912\n",
       "LGBM  2.712  3.810  0.836\n",
       "XGB   1.548  2.672  0.920"
      ]
     },
     "execution_count": 24,
     "metadata": {},
     "output_type": "execute_result"
    }
   ],
   "source": [
    "regression_model(5)"
   ]
  },
  {
   "cell_type": "markdown",
   "metadata": {},
   "source": [
    "The Finding of validation test give the same result with the earlier conclusion. The next step is tunning the parameter of selected method with the help of Randomized Search CV in order to optimize the performance both of the model and get the best parameter.   "
   ]
  },
  {
   "cell_type": "markdown",
   "metadata": {},
   "source": [
    "### Tunning with Randomized Search CV"
   ]
  },
  {
   "cell_type": "markdown",
   "metadata": {},
   "source": [
    "### 1. XGB "
   ]
  },
  {
   "cell_type": "code",
   "execution_count": 22,
   "metadata": {},
   "outputs": [
    {
     "data": {
      "text/plain": [
       "XGBRegressor(base_score=0.5, booster=None, colsample_bylevel=1,\n",
       "             colsample_bynode=1, colsample_bytree=1, gamma=0, gpu_id=-1,\n",
       "             importance_type='gain', interaction_constraints=None,\n",
       "             learning_rate=0.300000012, max_delta_step=0, max_depth=6,\n",
       "             min_child_weight=1, missing=nan, monotone_constraints=None,\n",
       "             n_estimators=100, n_jobs=0, num_parallel_tree=1,\n",
       "             objective='reg:squarederror', random_state=0, reg_alpha=0,\n",
       "             reg_lambda=1, scale_pos_weight=1, subsample=1, tree_method=None,\n",
       "             validate_parameters=False, verbosity=None)"
      ]
     },
     "execution_count": 22,
     "metadata": {},
     "output_type": "execute_result"
    }
   ],
   "source": [
    "XGB_params2 = {'objective' :'reg:squarederror','colsample_bytree': np.linspace(0.3, 0.7),\n",
    "          'gamma': np.linspace(0, 0.5),\n",
    "          'learning_rate': np.linspace(0.003, 0.3), # default 0.1 \n",
    "          'max_depth': np.linspace(2, 6), # default 3\n",
    "          'n_estimators': np.linspace(100, 250), # default 100\n",
    "          'subsample': np.linspace(0.4, 0.6), 'reg_lambda': np.linspace(0,1)}\n",
    "\n",
    "XGB_randomized = XGBRegressor()\n",
    "xgb_search = RandomizedSearchCV(XGB_randomized,param_distributions=XGB_params2, \n",
    "                                random_state=42, n_iter=50, cv=8, verbose=1, n_jobs=1, return_train_score=True)\n",
    "XGB_randomized.fit(X_train, y_train)\n"
   ]
  },
  {
   "cell_type": "code",
   "execution_count": 23,
   "metadata": {},
   "outputs": [
    {
     "data": {
      "text/html": [
       "<div>\n",
       "<style scoped>\n",
       "    .dataframe tbody tr th:only-of-type {\n",
       "        vertical-align: middle;\n",
       "    }\n",
       "\n",
       "    .dataframe tbody tr th {\n",
       "        vertical-align: top;\n",
       "    }\n",
       "\n",
       "    .dataframe thead th {\n",
       "        text-align: right;\n",
       "    }\n",
       "</style>\n",
       "<table border=\"1\" class=\"dataframe\">\n",
       "  <thead>\n",
       "    <tr style=\"text-align: right;\">\n",
       "      <th></th>\n",
       "      <th></th>\n",
       "      <th>MAE</th>\n",
       "      <th>RMSE</th>\n",
       "      <th>R2</th>\n",
       "    </tr>\n",
       "  </thead>\n",
       "  <tbody>\n",
       "    <tr>\n",
       "      <td>Train</td>\n",
       "      <td>:</td>\n",
       "      <td>1.27</td>\n",
       "      <td>2.16</td>\n",
       "      <td>0.946</td>\n",
       "    </tr>\n",
       "    <tr>\n",
       "      <td>Test</td>\n",
       "      <td>:</td>\n",
       "      <td>1.47</td>\n",
       "      <td>2.65</td>\n",
       "      <td>0.921</td>\n",
       "    </tr>\n",
       "  </tbody>\n",
       "</table>\n",
       "</div>"
      ],
      "text/plain": [
       "          MAE  RMSE     R2\n",
       "Train :  1.27  2.16  0.946\n",
       "Test  :  1.47  2.65  0.921"
      ]
     },
     "execution_count": 23,
     "metadata": {},
     "output_type": "execute_result"
    }
   ],
   "source": [
    "train_error5= evalmetrics (XGB_randomized, X_train, y_train)\n",
    "test_error5= evalmetrics (XGB_randomized, X_test, y_test)\n",
    "pd.concat([train_error5,test_error5],keys=['Train','Test'])\n"
   ]
  },
  {
   "cell_type": "markdown",
   "metadata": {},
   "source": [
    "### 2. Random Forest Regressor"
   ]
  },
  {
   "cell_type": "code",
   "execution_count": 26,
   "metadata": {
    "scrolled": false
   },
   "outputs": [
    {
     "data": {
      "text/plain": [
       "{'bootstrap': True,\n",
       " 'ccp_alpha': 0.0,\n",
       " 'criterion': 'mse',\n",
       " 'max_depth': None,\n",
       " 'max_features': 'auto',\n",
       " 'max_leaf_nodes': None,\n",
       " 'max_samples': None,\n",
       " 'min_impurity_decrease': 0.0,\n",
       " 'min_impurity_split': None,\n",
       " 'min_samples_leaf': 1,\n",
       " 'min_samples_split': 2,\n",
       " 'min_weight_fraction_leaf': 0.0,\n",
       " 'n_estimators': 100,\n",
       " 'n_jobs': None,\n",
       " 'oob_score': False,\n",
       " 'random_state': None,\n",
       " 'verbose': 0,\n",
       " 'warm_start': False}"
      ]
     },
     "execution_count": 26,
     "metadata": {},
     "output_type": "execute_result"
    }
   ],
   "source": [
    "RFR_randomized = RandomForestRegressor()\n",
    "RFR_randomized.get_params()"
   ]
  },
  {
   "cell_type": "code",
   "execution_count": 28,
   "metadata": {},
   "outputs": [],
   "source": [
    "RFR_params = {\n",
    "    'min_samples_split': range(3,10),\n",
    "    'n_estimators': range(10,100, 10),\n",
    "    'max_features': ['auto', 'sqrt', 'log2']\n",
    "}\n"
   ]
  },
  {
   "cell_type": "code",
   "execution_count": 29,
   "metadata": {},
   "outputs": [
    {
     "data": {
      "text/plain": [
       "{'n_estimators': 80, 'min_samples_split': 9, 'max_features': 'auto'}"
      ]
     },
     "execution_count": 29,
     "metadata": {},
     "output_type": "execute_result"
    }
   ],
   "source": [
    "RFR_randomized = RandomizedSearchCV(\n",
    "                estimator =  RFR_randomized, param_distributions = RFR_params, \n",
    "                cv = 10, random_state=11, n_iter=30, scoring='neg_mean_squared_error')\n",
    "RFR_randomized.fit(X_train, y_train)\n",
    "RFR_randomized.best_params_"
   ]
  },
  {
   "cell_type": "code",
   "execution_count": 30,
   "metadata": {},
   "outputs": [
    {
     "data": {
      "text/html": [
       "<div>\n",
       "<style scoped>\n",
       "    .dataframe tbody tr th:only-of-type {\n",
       "        vertical-align: middle;\n",
       "    }\n",
       "\n",
       "    .dataframe tbody tr th {\n",
       "        vertical-align: top;\n",
       "    }\n",
       "\n",
       "    .dataframe thead th {\n",
       "        text-align: right;\n",
       "    }\n",
       "</style>\n",
       "<table border=\"1\" class=\"dataframe\">\n",
       "  <thead>\n",
       "    <tr style=\"text-align: right;\">\n",
       "      <th></th>\n",
       "      <th></th>\n",
       "      <th>MAE</th>\n",
       "      <th>RMSE</th>\n",
       "      <th>R2</th>\n",
       "    </tr>\n",
       "  </thead>\n",
       "  <tbody>\n",
       "    <tr>\n",
       "      <td>Train</td>\n",
       "      <td>:</td>\n",
       "      <td>0.85</td>\n",
       "      <td>1.60</td>\n",
       "      <td>0.971</td>\n",
       "    </tr>\n",
       "    <tr>\n",
       "      <td>Test</td>\n",
       "      <td>:</td>\n",
       "      <td>1.53</td>\n",
       "      <td>2.76</td>\n",
       "      <td>0.914</td>\n",
       "    </tr>\n",
       "  </tbody>\n",
       "</table>\n",
       "</div>"
      ],
      "text/plain": [
       "          MAE  RMSE     R2\n",
       "Train :  0.85  1.60  0.971\n",
       "Test  :  1.53  2.76  0.914"
      ]
     },
     "execution_count": 30,
     "metadata": {},
     "output_type": "execute_result"
    }
   ],
   "source": [
    "train_error6= evalmetrics (RFR_randomized, X_train, y_train)\n",
    "test_error6= evalmetrics (RFR_randomized, X_test, y_test)\n",
    "pd.concat([train_error6,test_error6],keys=['Train','Test'])\n",
    "\n"
   ]
  },
  {
   "cell_type": "code",
   "execution_count": 31,
   "metadata": {
    "collapsed": true
   },
   "outputs": [
    {
     "data": {
      "text/html": [
       "<div>\n",
       "<style scoped>\n",
       "    .dataframe tbody tr th:only-of-type {\n",
       "        vertical-align: middle;\n",
       "    }\n",
       "\n",
       "    .dataframe tbody tr th {\n",
       "        vertical-align: top;\n",
       "    }\n",
       "\n",
       "    .dataframe thead th {\n",
       "        text-align: right;\n",
       "    }\n",
       "</style>\n",
       "<table border=\"1\" class=\"dataframe\">\n",
       "  <thead>\n",
       "    <tr style=\"text-align: right;\">\n",
       "      <th></th>\n",
       "      <th>y actual</th>\n",
       "      <th>y predicted</th>\n",
       "      <th>difference</th>\n",
       "    </tr>\n",
       "  </thead>\n",
       "  <tbody>\n",
       "    <tr>\n",
       "      <td>41595</td>\n",
       "      <td>75.0</td>\n",
       "      <td>35.425671</td>\n",
       "      <td>40.0</td>\n",
       "    </tr>\n",
       "    <tr>\n",
       "      <td>11889</td>\n",
       "      <td>62.5</td>\n",
       "      <td>22.786104</td>\n",
       "      <td>40.0</td>\n",
       "    </tr>\n",
       "    <tr>\n",
       "      <td>53188</td>\n",
       "      <td>80.0</td>\n",
       "      <td>45.209878</td>\n",
       "      <td>35.0</td>\n",
       "    </tr>\n",
       "    <tr>\n",
       "      <td>28695</td>\n",
       "      <td>73.5</td>\n",
       "      <td>39.899981</td>\n",
       "      <td>34.0</td>\n",
       "    </tr>\n",
       "    <tr>\n",
       "      <td>44626</td>\n",
       "      <td>65.0</td>\n",
       "      <td>31.816494</td>\n",
       "      <td>33.0</td>\n",
       "    </tr>\n",
       "    <tr>\n",
       "      <td>33059</td>\n",
       "      <td>65.0</td>\n",
       "      <td>33.968034</td>\n",
       "      <td>31.0</td>\n",
       "    </tr>\n",
       "    <tr>\n",
       "      <td>46438</td>\n",
       "      <td>65.0</td>\n",
       "      <td>33.942074</td>\n",
       "      <td>31.0</td>\n",
       "    </tr>\n",
       "    <tr>\n",
       "      <td>50506</td>\n",
       "      <td>52.5</td>\n",
       "      <td>22.149464</td>\n",
       "      <td>30.0</td>\n",
       "    </tr>\n",
       "    <tr>\n",
       "      <td>36455</td>\n",
       "      <td>47.5</td>\n",
       "      <td>18.270803</td>\n",
       "      <td>29.0</td>\n",
       "    </tr>\n",
       "    <tr>\n",
       "      <td>10292</td>\n",
       "      <td>65.0</td>\n",
       "      <td>36.472735</td>\n",
       "      <td>29.0</td>\n",
       "    </tr>\n",
       "    <tr>\n",
       "      <td>20272</td>\n",
       "      <td>65.0</td>\n",
       "      <td>37.259085</td>\n",
       "      <td>28.0</td>\n",
       "    </tr>\n",
       "    <tr>\n",
       "      <td>53661</td>\n",
       "      <td>46.0</td>\n",
       "      <td>17.594645</td>\n",
       "      <td>28.0</td>\n",
       "    </tr>\n",
       "    <tr>\n",
       "      <td>46442</td>\n",
       "      <td>57.5</td>\n",
       "      <td>30.055567</td>\n",
       "      <td>27.0</td>\n",
       "    </tr>\n",
       "    <tr>\n",
       "      <td>69516</td>\n",
       "      <td>62.5</td>\n",
       "      <td>35.502921</td>\n",
       "      <td>27.0</td>\n",
       "    </tr>\n",
       "    <tr>\n",
       "      <td>12236</td>\n",
       "      <td>57.5</td>\n",
       "      <td>31.296908</td>\n",
       "      <td>26.0</td>\n",
       "    </tr>\n",
       "    <tr>\n",
       "      <td>27736</td>\n",
       "      <td>52.5</td>\n",
       "      <td>26.774435</td>\n",
       "      <td>26.0</td>\n",
       "    </tr>\n",
       "    <tr>\n",
       "      <td>76463</td>\n",
       "      <td>52.5</td>\n",
       "      <td>26.854003</td>\n",
       "      <td>26.0</td>\n",
       "    </tr>\n",
       "    <tr>\n",
       "      <td>11046</td>\n",
       "      <td>52.5</td>\n",
       "      <td>27.193376</td>\n",
       "      <td>25.0</td>\n",
       "    </tr>\n",
       "    <tr>\n",
       "      <td>1423</td>\n",
       "      <td>62.5</td>\n",
       "      <td>37.354296</td>\n",
       "      <td>25.0</td>\n",
       "    </tr>\n",
       "    <tr>\n",
       "      <td>49202</td>\n",
       "      <td>47.5</td>\n",
       "      <td>22.109915</td>\n",
       "      <td>25.0</td>\n",
       "    </tr>\n",
       "    <tr>\n",
       "      <td>53843</td>\n",
       "      <td>51.5</td>\n",
       "      <td>26.381537</td>\n",
       "      <td>25.0</td>\n",
       "    </tr>\n",
       "    <tr>\n",
       "      <td>43818</td>\n",
       "      <td>55.0</td>\n",
       "      <td>30.516825</td>\n",
       "      <td>24.0</td>\n",
       "    </tr>\n",
       "    <tr>\n",
       "      <td>27059</td>\n",
       "      <td>47.5</td>\n",
       "      <td>23.352140</td>\n",
       "      <td>24.0</td>\n",
       "    </tr>\n",
       "    <tr>\n",
       "      <td>61566</td>\n",
       "      <td>62.5</td>\n",
       "      <td>38.353641</td>\n",
       "      <td>24.0</td>\n",
       "    </tr>\n",
       "    <tr>\n",
       "      <td>48273</td>\n",
       "      <td>57.5</td>\n",
       "      <td>34.631906</td>\n",
       "      <td>23.0</td>\n",
       "    </tr>\n",
       "    <tr>\n",
       "      <td>47274</td>\n",
       "      <td>45.5</td>\n",
       "      <td>23.093500</td>\n",
       "      <td>22.0</td>\n",
       "    </tr>\n",
       "    <tr>\n",
       "      <td>77739</td>\n",
       "      <td>38.5</td>\n",
       "      <td>16.006148</td>\n",
       "      <td>22.0</td>\n",
       "    </tr>\n",
       "    <tr>\n",
       "      <td>12937</td>\n",
       "      <td>52.5</td>\n",
       "      <td>30.656538</td>\n",
       "      <td>22.0</td>\n",
       "    </tr>\n",
       "    <tr>\n",
       "      <td>44194</td>\n",
       "      <td>55.0</td>\n",
       "      <td>33.044976</td>\n",
       "      <td>22.0</td>\n",
       "    </tr>\n",
       "    <tr>\n",
       "      <td>23308</td>\n",
       "      <td>42.5</td>\n",
       "      <td>20.109645</td>\n",
       "      <td>22.0</td>\n",
       "    </tr>\n",
       "    <tr>\n",
       "      <td>46990</td>\n",
       "      <td>55.0</td>\n",
       "      <td>34.256416</td>\n",
       "      <td>21.0</td>\n",
       "    </tr>\n",
       "    <tr>\n",
       "      <td>3759</td>\n",
       "      <td>42.5</td>\n",
       "      <td>21.089223</td>\n",
       "      <td>21.0</td>\n",
       "    </tr>\n",
       "    <tr>\n",
       "      <td>75798</td>\n",
       "      <td>55.0</td>\n",
       "      <td>33.813855</td>\n",
       "      <td>21.0</td>\n",
       "    </tr>\n",
       "    <tr>\n",
       "      <td>71461</td>\n",
       "      <td>65.0</td>\n",
       "      <td>44.265832</td>\n",
       "      <td>21.0</td>\n",
       "    </tr>\n",
       "    <tr>\n",
       "      <td>72768</td>\n",
       "      <td>62.5</td>\n",
       "      <td>41.959186</td>\n",
       "      <td>21.0</td>\n",
       "    </tr>\n",
       "    <tr>\n",
       "      <td>24097</td>\n",
       "      <td>52.5</td>\n",
       "      <td>31.167652</td>\n",
       "      <td>21.0</td>\n",
       "    </tr>\n",
       "    <tr>\n",
       "      <td>75394</td>\n",
       "      <td>42.5</td>\n",
       "      <td>21.417506</td>\n",
       "      <td>21.0</td>\n",
       "    </tr>\n",
       "    <tr>\n",
       "      <td>66158</td>\n",
       "      <td>52.5</td>\n",
       "      <td>31.808659</td>\n",
       "      <td>21.0</td>\n",
       "    </tr>\n",
       "    <tr>\n",
       "      <td>15694</td>\n",
       "      <td>42.5</td>\n",
       "      <td>21.763658</td>\n",
       "      <td>21.0</td>\n",
       "    </tr>\n",
       "    <tr>\n",
       "      <td>2085</td>\n",
       "      <td>37.0</td>\n",
       "      <td>16.816568</td>\n",
       "      <td>20.0</td>\n",
       "    </tr>\n",
       "    <tr>\n",
       "      <td>2988</td>\n",
       "      <td>47.5</td>\n",
       "      <td>27.318131</td>\n",
       "      <td>20.0</td>\n",
       "    </tr>\n",
       "    <tr>\n",
       "      <td>61886</td>\n",
       "      <td>47.5</td>\n",
       "      <td>27.089842</td>\n",
       "      <td>20.0</td>\n",
       "    </tr>\n",
       "    <tr>\n",
       "      <td>79365</td>\n",
       "      <td>57.5</td>\n",
       "      <td>37.928653</td>\n",
       "      <td>20.0</td>\n",
       "    </tr>\n",
       "    <tr>\n",
       "      <td>22912</td>\n",
       "      <td>55.0</td>\n",
       "      <td>34.563711</td>\n",
       "      <td>20.0</td>\n",
       "    </tr>\n",
       "    <tr>\n",
       "      <td>77255</td>\n",
       "      <td>38.5</td>\n",
       "      <td>19.687963</td>\n",
       "      <td>19.0</td>\n",
       "    </tr>\n",
       "    <tr>\n",
       "      <td>10361</td>\n",
       "      <td>52.5</td>\n",
       "      <td>33.103637</td>\n",
       "      <td>19.0</td>\n",
       "    </tr>\n",
       "    <tr>\n",
       "      <td>33757</td>\n",
       "      <td>36.0</td>\n",
       "      <td>16.637856</td>\n",
       "      <td>19.0</td>\n",
       "    </tr>\n",
       "    <tr>\n",
       "      <td>14978</td>\n",
       "      <td>42.5</td>\n",
       "      <td>24.239473</td>\n",
       "      <td>18.0</td>\n",
       "    </tr>\n",
       "    <tr>\n",
       "      <td>6279</td>\n",
       "      <td>32.5</td>\n",
       "      <td>14.710898</td>\n",
       "      <td>18.0</td>\n",
       "    </tr>\n",
       "    <tr>\n",
       "      <td>4365</td>\n",
       "      <td>38.5</td>\n",
       "      <td>20.908197</td>\n",
       "      <td>18.0</td>\n",
       "    </tr>\n",
       "  </tbody>\n",
       "</table>\n",
       "</div>"
      ],
      "text/plain": [
       "       y actual  y predicted  difference\n",
       "41595      75.0    35.425671        40.0\n",
       "11889      62.5    22.786104        40.0\n",
       "53188      80.0    45.209878        35.0\n",
       "28695      73.5    39.899981        34.0\n",
       "44626      65.0    31.816494        33.0\n",
       "33059      65.0    33.968034        31.0\n",
       "46438      65.0    33.942074        31.0\n",
       "50506      52.5    22.149464        30.0\n",
       "36455      47.5    18.270803        29.0\n",
       "10292      65.0    36.472735        29.0\n",
       "20272      65.0    37.259085        28.0\n",
       "53661      46.0    17.594645        28.0\n",
       "46442      57.5    30.055567        27.0\n",
       "69516      62.5    35.502921        27.0\n",
       "12236      57.5    31.296908        26.0\n",
       "27736      52.5    26.774435        26.0\n",
       "76463      52.5    26.854003        26.0\n",
       "11046      52.5    27.193376        25.0\n",
       "1423       62.5    37.354296        25.0\n",
       "49202      47.5    22.109915        25.0\n",
       "53843      51.5    26.381537        25.0\n",
       "43818      55.0    30.516825        24.0\n",
       "27059      47.5    23.352140        24.0\n",
       "61566      62.5    38.353641        24.0\n",
       "48273      57.5    34.631906        23.0\n",
       "47274      45.5    23.093500        22.0\n",
       "77739      38.5    16.006148        22.0\n",
       "12937      52.5    30.656538        22.0\n",
       "44194      55.0    33.044976        22.0\n",
       "23308      42.5    20.109645        22.0\n",
       "46990      55.0    34.256416        21.0\n",
       "3759       42.5    21.089223        21.0\n",
       "75798      55.0    33.813855        21.0\n",
       "71461      65.0    44.265832        21.0\n",
       "72768      62.5    41.959186        21.0\n",
       "24097      52.5    31.167652        21.0\n",
       "75394      42.5    21.417506        21.0\n",
       "66158      52.5    31.808659        21.0\n",
       "15694      42.5    21.763658        21.0\n",
       "2085       37.0    16.816568        20.0\n",
       "2988       47.5    27.318131        20.0\n",
       "61886      47.5    27.089842        20.0\n",
       "79365      57.5    37.928653        20.0\n",
       "22912      55.0    34.563711        20.0\n",
       "77255      38.5    19.687963        19.0\n",
       "10361      52.5    33.103637        19.0\n",
       "33757      36.0    16.637856        19.0\n",
       "14978      42.5    24.239473        18.0\n",
       "6279       32.5    14.710898        18.0\n",
       "4365       38.5    20.908197        18.0"
      ]
     },
     "execution_count": 31,
     "metadata": {},
     "output_type": "execute_result"
    }
   ],
   "source": [
    "pred = pd.DataFrame({'y actual' : y_test , 'y predicted' : RFR_randomized.predict(X_test)})\n",
    "pred['difference'] = round(pred['y actual'] - pred['y predicted'])\n",
    "sel = pred.sort_values(by='difference',ascending=False)\n",
    "sel.head(50)"
   ]
  },
  {
   "cell_type": "markdown",
   "metadata": {},
   "source": [
    "#### Regression Plot between the actual and predicted prices to see how well the regression line fits tha data."
   ]
  },
  {
   "cell_type": "code",
   "execution_count": 56,
   "metadata": {},
   "outputs": [
    {
     "data": {
      "text/plain": [
       "<matplotlib.axes._subplots.AxesSubplot at 0x1528d0a9608>"
      ]
     },
     "execution_count": 56,
     "metadata": {},
     "output_type": "execute_result"
    },
    {
     "data": {
      "image/png": "[encoded data removed]",
      "text/plain": [
       "<Figure size 864x576 with 1 Axes>"
      ]
     },
     "metadata": {
      "needs_background": "light"
     },
     "output_type": "display_data"
    }
   ],
   "source": [
    "plt.figure(figsize=(12,8))\n",
    "sns.scatterplot(RFR_randomized.predict(X_train),y_train)\n",
    "sns.scatterplot(RFR_randomized.predict(X_test),y_test, )"
   ]
  },
  {
   "cell_type": "markdown",
   "metadata": {},
   "source": [
    "The residual plot for test data looks similar to the train data which is a really a good sign.\n",
    "We can see that the major percent of data lies within the price range which is the same as train data, spread around 0 and 60. Beside that, there are a few outliers which is quite normal when the model is exposed to data outside the training data set.\n"
   ]
  },
  {
   "cell_type": "markdown",
   "metadata": {},
   "source": [
    "Feature Importance"
   ]
  },
  {
   "cell_type": "code",
   "execution_count": 47,
   "metadata": {
    "scrolled": true
   },
   "outputs": [
    {
     "data": {
      "text/plain": [
       "<matplotlib.axes._subplots.AxesSubplot at 0x1528dd0eb88>"
      ]
     },
     "execution_count": 47,
     "metadata": {},
     "output_type": "execute_result"
    },
    {
     "data": {
      "image/png": "[encoded data removed]",
      "text/plain": [
       "<Figure size 1080x360 with 1 Axes>"
      ]
     },
     "metadata": {
      "needs_background": "light"
     },
     "output_type": "display_data"
    }
   ],
   "source": [
    "plt.figure(figsize=(15,5))\n",
    "feature_importance = pd.Series(RFR_randomized.best_estimator_.feature_importances_,index=x.columns).sort_values(ascending=False).head(15)\n",
    "sns.barplot(x=feature_importance.values , y = feature_importance.index)"
   ]
  },
  {
   "cell_type": "markdown",
   "metadata": {},
   "source": [
    "Clearly the important features that affect the price of Uber or Lyft are the the type of car and price."
   ]
  },
  {
   "cell_type": "code",
   "execution_count": null,
   "metadata": {},
   "outputs": [],
   "source": []
  },
  {
   "cell_type": "code",
   "execution_count": 48,
   "metadata": {},
   "outputs": [],
   "source": [
    "import pickle"
   ]
  },
  {
   "cell_type": "code",
   "execution_count": 49,
   "metadata": {},
   "outputs": [],
   "source": [
    "filename = 'final_model.sav'\n",
    "pickle.dump(RFR_randomized, open(filename, 'wb'))"
   ]
  },
  {
   "cell_type": "code",
   "execution_count": 52,
   "metadata": {},
   "outputs": [],
   "source": [
    "filename = 'x_dummies_colomn.sav'\n",
    "pickle.dump(df.columns, open(filename , 'wb'))"
   ]
  },
  {
   "cell_type": "code",
   "execution_count": 54,
   "metadata": {},
   "outputs": [],
   "source": [
    "filename = 'real_colomn.sav'\n",
    "pickle.dump(df.drop('price',axis=1).columns, open(filename , 'wb'))"
   ]
  }
 ],
 "metadata": {
  "kernelspec": {
   "display_name": "Python 3",
   "language": "python",
   "name": "python3"
  },
  "language_info": {
   "codemirror_mode": {
    "name": "ipython",
    "version": 3
   },
   "file_extension": ".py",
   "mimetype": "text/x-python",
   "name": "python",
   "nbconvert_exporter": "python",
   "pygments_lexer": "ipython3",
   "version": "3.7.4"
  }
 },
 "nbformat": 4,
 "nbformat_minor": 2
}
